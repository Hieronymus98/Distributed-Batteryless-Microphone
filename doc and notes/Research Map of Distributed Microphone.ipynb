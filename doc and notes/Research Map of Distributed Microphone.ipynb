{
 "cells": [
  {
   "cell_type": "markdown",
   "metadata": {},
   "source": [
    "## Research Progress Outline\n",
    "\n",
    "1. __Reading__ \n",
    "   * Efficient Audio Signal Processing for Embedded Systems \n",
    "     * I read part 1 of chpater IV \"Sound detector and classifier\". \n",
    "   * An FFT-based speech recognition system\n",
    "     * I have read up to the bookmark, to be continued\n",
    "2. __Writing__\n",
    "    * The observation of favorable energy conditions lead to response to the same command by all nodes which breaks the continuous behavior of the system \n",
    "    * ~~The question, how to assign probabilities?~~\n",
    "   \n",
    "3. __Experiments__\n",
    "   * Try to implement some of the feature extraction methods mentioned in Efficient Audio Signal...\n",
    "   * Get the sound signal from the internet or the Mic\n",
    "4. __Observations__\n",
    "    * Even when the energy-harvesting devices wake up at the same moment by an external interrupt their power cycles tend to desynchronize due to different harvesting time which cannot be interrupted.\n",
    "5. __Hypotheses__\n",
    "    * If the charging rate is very low, will that make energy-harvesting devices synchronizes on external events.\n",
    "6. __Questions__\n",
    "   * ~~The MACROS in the `common.h` file need to be well defined~~\n",
    "7. __Others__\n",
    "   * ~~Rearrange the project folder structure~~ \n",
    "   * ~~check and order hardware~~\n",
    "   * ~~The ADC sampling rate needs to be rechecked~~\n",
    "     * ~~ADC12PDIV_1 = /4~~\n",
    "     * ~~ADC12SHT0_2 = /16~~\n",
    "     * ~~ADC12DIV_0 = /1~~\n",
    "8. __Terms__\n",
    "    * Filter-bank\n",
    "    * time normalization methods such as dynamic time warping (DTW)\n",
    "    * Pre-emphasis\n",
    "    * Mel Cepstrum analysis\n",
    "    * SBWTCK\n",
    "    * SBWTDIO\n"
   ]
  },
  {
   "cell_type": "markdown",
   "metadata": {},
   "source": []
  },
  {
   "cell_type": "code",
   "execution_count": null,
   "metadata": {},
   "outputs": [],
   "source": []
  }
 ],
 "metadata": {
  "kernelspec": {
   "display_name": "Python 3",
   "language": "python",
   "name": "python3"
  },
  "language_info": {
   "codemirror_mode": {
    "name": "ipython",
    "version": 3
   },
   "file_extension": ".py",
   "mimetype": "text/x-python",
   "name": "python",
   "nbconvert_exporter": "python",
   "pygments_lexer": "ipython3",
   "version": "3.6.5"
  }
 },
 "nbformat": 4,
 "nbformat_minor": 2
}
